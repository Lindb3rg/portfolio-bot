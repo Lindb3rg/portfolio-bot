{
 "cells": [
  {
   "cell_type": "code",
   "execution_count": 18,
   "metadata": {},
   "outputs": [],
   "source": [
    "import os\n",
    "import requests\n",
    "from typing import List\n",
    "from dotenv import load_dotenv\n",
    "import anthropic\n",
    "import gradio as gr\n",
    "\n",
    "\n",
    "load_dotenv()\n",
    "\n",
    "api_key = os.getenv('ANTHROPIC_API_KEY').strip()\n",
    "if not api_key.startswith('sk-ant-'):\n",
    "    print(api_key)\n",
    "    raise ValueError(\"API key appears to be in incorrect format. Should start with 'sk-ant-'\")\n",
    "\n",
    "system_message = api_key = os.getenv('SYSTEM_MESSAGE')\n",
    "if not system_message:\n",
    "    raise ValueError(\n",
    "        \"SYSTEM_MESSAGE not found in environment variables. \"\n",
    "        \"This is required for the chatbot to understand your background and expertise. \"\n",
    "        \"Please add a SYSTEM_MESSAGE entry to your .env file.\"\n",
    "    )\n",
    "    \n",
    "\n",
    "\n",
    "client = anthropic.Anthropic(api_key=api_key)"
   ]
  },
  {
   "cell_type": "code",
   "execution_count": 19,
   "metadata": {},
   "outputs": [],
   "source": [
    "system_message = \"My name is Adam Lindberg.\"\n",
    "system_message += \"You are my helpful assistant towards potential employers. My area is software development and engineering\"\n",
    "system_message += \"Don't answer to questions you don't have an answer to.\""
   ]
  },
  {
   "cell_type": "code",
   "execution_count": null,
   "metadata": {},
   "outputs": [],
   "source": []
  },
  {
   "cell_type": "code",
   "execution_count": 20,
   "metadata": {},
   "outputs": [],
   "source": [
    "def stream_claude_3_7_sonnet(prompt):\n",
    "    result = client.messages.stream(\n",
    "        model=\"claude-3-7-sonnet-20250219\",\n",
    "        max_tokens=1000,\n",
    "        temperature=0.7,\n",
    "        system=system_message,\n",
    "        messages=[\n",
    "            {\"role\": \"user\", \"content\": prompt},\n",
    "        ],\n",
    "    )\n",
    "    \n",
    "    response = \"\"\n",
    "    \n",
    "    with result as stream:\n",
    "        for text in stream.text_stream:\n",
    "            response += text or \"\"\n",
    "            yield response"
   ]
  },
  {
   "cell_type": "code",
   "execution_count": 23,
   "metadata": {},
   "outputs": [
    {
     "name": "stderr",
     "output_type": "stream",
     "text": [
      "/var/folders/w2/nyq_87_d7l5dzyd9hf6z84lw0000gn/T/ipykernel_36881/2418887786.py:2: UserWarning: You have not specified a value for the `type` parameter. Defaulting to the 'tuples' format for chatbot messages, but this is deprecated and will be removed in a future version of Gradio. Please set type='messages' instead, which uses openai-style dictionaries with 'role' and 'content' keys.\n",
      "  chatbot = gr.Chatbot()\n"
     ]
    },
    {
     "name": "stdout",
     "output_type": "stream",
     "text": [
      "* Running on local URL:  http://127.0.0.1:7864\n",
      "\n",
      "To create a public link, set `share=True` in `launch()`.\n"
     ]
    },
    {
     "data": {
      "text/html": [
       "<div><iframe src=\"http://127.0.0.1:7864/\" width=\"100%\" height=\"500\" allow=\"autoplay; camera; microphone; clipboard-read; clipboard-write;\" frameborder=\"0\" allowfullscreen></iframe></div>"
      ],
      "text/plain": [
       "<IPython.core.display.HTML object>"
      ]
     },
     "metadata": {},
     "output_type": "display_data"
    },
    {
     "data": {
      "text/plain": []
     },
     "execution_count": 23,
     "metadata": {},
     "output_type": "execute_result"
    }
   ],
   "source": [
    "with gr.Blocks() as demo:\n",
    "    chatbot = gr.Chatbot()\n",
    "    msg = gr.Textbox()\n",
    "    \n",
    "    with gr.Row():\n",
    "        submit_btn = gr.Button(\"Submit\")\n",
    "        clear = gr.Button(\"Clear\")\n",
    "    \n",
    "    def user(user_message, history):\n",
    "        return \"\", history + [[user_message, None]]\n",
    "    \n",
    "    def bot(history):\n",
    "        user_message = history[-1][0]\n",
    "        history[-1][1] = \"\"\n",
    "        for response in stream_claude_3_7_sonnet(user_message):\n",
    "            history[-1][1] = response\n",
    "            yield history\n",
    "    \n",
    "    msg.submit(user, [msg, chatbot], [msg, chatbot], queue=False).then(\n",
    "        bot, chatbot, chatbot\n",
    "    )\n",
    "    \n",
    "    submit_btn.click(user, [msg, chatbot], [msg, chatbot], queue=False).then(\n",
    "        bot, chatbot, chatbot\n",
    "    )\n",
    "    \n",
    "    clear.click(lambda: None, None, chatbot, queue=False)\n",
    "\n",
    "demo.queue()\n",
    "demo.launch()"
   ]
  },
  {
   "cell_type": "code",
   "execution_count": 47,
   "metadata": {},
   "outputs": [],
   "source": [
    "\n"
   ]
  },
  {
   "cell_type": "code",
   "execution_count": 22,
   "metadata": {},
   "outputs": [],
   "source": [
    "# theme = gr.themes.Monochrome()\n",
    "\n",
    "\n",
    "# view = gr.Interface(\n",
    "#     fn=stream_claude3_5Haiku,\n",
    "#     theme=theme,\n",
    "#     inputs=[gr.Textbox(label=\"Your message:\")],\n",
    "#     outputs=[gr.Markdown(label=\"Response:\")],\n",
    "#     flagging_mode=\"never\"\n",
    "# )\n",
    "# view.launch()"
   ]
  }
 ],
 "metadata": {
  "kernelspec": {
   "display_name": "env",
   "language": "python",
   "name": "python3"
  },
  "language_info": {
   "codemirror_mode": {
    "name": "ipython",
    "version": 3
   },
   "file_extension": ".py",
   "mimetype": "text/x-python",
   "name": "python",
   "nbconvert_exporter": "python",
   "pygments_lexer": "ipython3",
   "version": "3.11.6"
  }
 },
 "nbformat": 4,
 "nbformat_minor": 2
}
