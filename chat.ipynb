{
 "cells": [
  {
   "cell_type": "code",
   "execution_count": 78,
   "metadata": {},
   "outputs": [],
   "source": [
    "import os\n",
    "from dotenv import load_dotenv\n",
    "import anthropic\n",
    "import gradio as gr\n",
    "\n",
    "\n",
    "load_dotenv()\n",
    "\n",
    "api_key = os.getenv('ANTHROPIC_API_KEY').strip()\n",
    "if not api_key.startswith('sk-ant-'):\n",
    "    raise ValueError(\"API key appears to be in incorrect format. Should start with 'sk-ant-'\")\n",
    "\n",
    "with open('system_message.txt', 'r') as file:\n",
    "    system_message = file.read()\n",
    "\n",
    "if not system_message:\n",
    "    raise ValueError(\n",
    "        \"system_message file could not be read\"\n",
    "    )\n",
    "    \n",
    "client = anthropic.Anthropic(api_key=api_key)"
   ]
  },
  {
   "cell_type": "code",
   "execution_count": 79,
   "metadata": {},
   "outputs": [],
   "source": [
    "def stream_claude_3_7_sonnet(prompt):\n",
    "    result = client.messages.stream(\n",
    "        model=\"claude-3-7-sonnet-20250219\",\n",
    "        max_tokens=1000,\n",
    "        temperature=0.7,\n",
    "        system=system_message,\n",
    "        messages=[\n",
    "            {\"role\": \"user\", \"content\": prompt},\n",
    "        ],\n",
    "    )\n",
    "    \n",
    "    response = \"\"\n",
    "    \n",
    "    with result as stream:\n",
    "        for text in stream.text_stream:\n",
    "            response += text or \"\"\n",
    "            yield response"
   ]
  },
  {
   "cell_type": "code",
   "execution_count": 80,
   "metadata": {},
   "outputs": [
    {
     "name": "stderr",
     "output_type": "stream",
     "text": [
      "/var/folders/w2/nyq_87_d7l5dzyd9hf6z84lw0000gn/T/ipykernel_60301/3548614344.py:5: UserWarning: You have not specified a value for the `type` parameter. Defaulting to the 'tuples' format for chatbot messages, but this is deprecated and will be removed in a future version of Gradio. Please set type='messages' instead, which uses openai-style dictionaries with 'role' and 'content' keys.\n",
      "  chatbot = gr.Chatbot()\n"
     ]
    },
    {
     "name": "stdout",
     "output_type": "stream",
     "text": [
      "* Running on local URL:  http://127.0.0.1:7895\n",
      "\n",
      "To create a public link, set `share=True` in `launch()`.\n"
     ]
    },
    {
     "data": {
      "text/html": [
       "<div><iframe src=\"http://127.0.0.1:7895/\" width=\"100%\" height=\"500\" allow=\"autoplay; camera; microphone; clipboard-read; clipboard-write;\" frameborder=\"0\" allowfullscreen></iframe></div>"
      ],
      "text/plain": [
       "<IPython.core.display.HTML object>"
      ]
     },
     "metadata": {},
     "output_type": "display_data"
    },
    {
     "data": {
      "text/plain": []
     },
     "execution_count": 80,
     "metadata": {},
     "output_type": "execute_result"
    }
   ],
   "source": [
    "with gr.Blocks() as chat:\n",
    "    \n",
    "    first_load = gr.State(True)\n",
    "    default_language = gr.State(\"English\")  # Store the current language\n",
    "    chatbot = gr.Chatbot()\n",
    "    msg = gr.Textbox()\n",
    "    # Language selector at the top\n",
    "    with gr.Row():\n",
    "        submit_btn = gr.Button(\"Submit\")\n",
    "        \n",
    "    with gr.Row():\n",
    "        language_dropdown = gr.Dropdown(\n",
    "            choices=[\"English\", \"Swedish\", \"Norwegian\", \"French\", \"German\", \"Danish\",\"Finnish\"], \n",
    "            value=\"English\",\n",
    "            label=\"Select Language\",\n",
    "            interactive=True\n",
    "        )\n",
    "        set_language_btn = gr.Button(\"Set Language\")\n",
    "        translate_button = gr.Button(\"Translate Last Response\")\n",
    "        clear = gr.Button(\"Clear\")\n",
    "    \n",
    "    def user(user_message, history):\n",
    "        return \"\", history + [[user_message, None]]\n",
    "    \n",
    "    def init_chat(first_load_state, language):\n",
    "        welcome_message = \"👋 Welcome to Adam Lindberg's resumé chatbot! I can tell you a little about Adam, his skills and projects. What would you like to know?\"\n",
    "        \n",
    "        if language != \"English\":\n",
    "            translate_prompt = f\"Translate the following text to {language}. Only provide the translation, nothing else: {welcome_message}\"\n",
    "            for response in stream_claude_3_7_sonnet(translate_prompt):\n",
    "                welcome_message = response\n",
    "        \n",
    "        if first_load_state:\n",
    "            return [[None, welcome_message]], False\n",
    "        return [], first_load_state\n",
    "    \n",
    "    def bot(history, language):\n",
    "        user_message = history[-1][0]\n",
    "        history[-1][1] = \"\"\n",
    "        \n",
    "        # Get the response in English first\n",
    "        english_response = \"\"\n",
    "        for response in stream_claude_3_7_sonnet(user_message):\n",
    "            english_response = response\n",
    "        \n",
    "        # If language is not English, translate the response\n",
    "        if language != \"English\":\n",
    "            translate_prompt = f\"Translate the following text to {language}. Only provide the translation, nothing else: {english_response}\"\n",
    "            \n",
    "            for response in stream_claude_3_7_sonnet(translate_prompt):\n",
    "                history[-1][1] = response\n",
    "                yield history\n",
    "        else:\n",
    "            # Just return the English response\n",
    "            history[-1][1] = english_response\n",
    "            yield history\n",
    "    \n",
    "    def translate_response(history, language):\n",
    "        if not history or not history[-1][1]:\n",
    "            return history\n",
    "        \n",
    "        original_response = history[-1][1]\n",
    "        translate_prompt = f\"Translate the following text to {language}. Only provide the translation, nothing else: {original_response}\"\n",
    "        \n",
    "        translated_response = \"\"\n",
    "        for response in stream_claude_3_7_sonnet(translate_prompt):\n",
    "            translated_response = response\n",
    "        \n",
    "        new_history = history.copy()\n",
    "        new_history.append([f\"Translate to {language}\", translated_response])\n",
    "        \n",
    "        return new_history\n",
    "    \n",
    "    def update_language(language):\n",
    "        return language\n",
    "    \n",
    "    chat.load(init_chat, [first_load, default_language], [chatbot, first_load])\n",
    "    \n",
    "    submit_btn.click(user, [msg, chatbot], [msg, chatbot], queue=False).then(\n",
    "        bot, [chatbot, default_language], chatbot\n",
    "    )\n",
    "    \n",
    "    set_language_btn.click(update_language, language_dropdown, default_language).then(\n",
    "        init_chat, [first_load, default_language], [chatbot, first_load]\n",
    "    )\n",
    "    \n",
    "    msg.submit(user, [msg, chatbot], [msg, chatbot], queue=False).then(\n",
    "        bot, [chatbot, default_language], chatbot\n",
    "    )\n",
    "    \n",
    "    \n",
    "    \n",
    "    translate_button.click(\n",
    "        translate_response, \n",
    "        [chatbot, language_dropdown], \n",
    "        [chatbot]\n",
    "    )\n",
    "    \n",
    "    \n",
    "    clear.click(lambda: None, None, chatbot, queue=False)\n",
    "\n",
    "chat.queue()\n",
    "chat.launch()"
   ]
  }
 ],
 "metadata": {
  "kernelspec": {
   "display_name": "env",
   "language": "python",
   "name": "python3"
  },
  "language_info": {
   "codemirror_mode": {
    "name": "ipython",
    "version": 3
   },
   "file_extension": ".py",
   "mimetype": "text/x-python",
   "name": "python",
   "nbconvert_exporter": "python",
   "pygments_lexer": "ipython3",
   "version": "3.11.6"
  }
 },
 "nbformat": 4,
 "nbformat_minor": 2
}
